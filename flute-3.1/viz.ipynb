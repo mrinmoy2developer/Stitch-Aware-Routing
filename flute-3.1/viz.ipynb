{
 "cells": [
  {
   "cell_type": "code",
   "execution_count": 2,
   "metadata": {},
   "outputs": [
    {
     "name": "stdout",
     "output_type": "stream",
     "text": [
      "Radial Smirnov Test statistic: 0.3651992446511446\n",
      "Radial Smirnov Test p-value: 1.8369858042743886e-12\n"
     ]
    }
   ],
   "source": [
    "import numpy as np\n",
    "from scipy import stats\n",
    "\n",
    "def radial_smirnov_test(data, center):\n",
    "    # Calculate the distances from the center\n",
    "    distances = np.sqrt(np.sum((data - center) ** 2, axis=1))\n",
    "    \n",
    "    # Perform the Radial Smirnov Test\n",
    "    result = stats.kstest(distances, 'uniform')\n",
    "    \n",
    "    return result\n",
    "\n",
    "# Example usage\n",
    "data = np.random.rand(100, 2)  # Generate random 2D data\n",
    "center = np.array([0.5, 0.5])  # Center point\n",
    "result = radial_smirnov_test(data, center)\n",
    "\n",
    "print(\"Radial Smirnov Test statistic:\", result.statistic)\n",
    "print(\"Radial Smirnov Test p-value:\", result.pvalue)"
   ]
  },
  {
   "cell_type": "code",
   "execution_count": null,
   "metadata": {},
   "outputs": [],
   "source": [
    "import cffi,pathlib\n",
    "\"\"\" Build the CFFI Python bindings \"\"\"\n",
    "print(\"Building CFFI Module\")\n",
    "ffi = cffi.FFI()\n",
    "this_dir = pathlib.Path().absolute()\n",
    "\n",
    "h_file_name = this_dir / \"bookshelf_IO.h\"\n",
    "with open(h_file_name) as h_file:\n",
    "    ffi.cdef(h_file.read())\n",
    "    \n",
    "ffi.set_source(\n",
    "    \"bookshelf\",\n",
    "    # Since you're calling a fully-built library directly, no custom source\n",
    "    # is necessary. You need to include the .h files, though, because behind\n",
    "    # the scenes cffi generates a .c file that contains a Python-friendly\n",
    "    # wrapper around each of the functions.\n",
    "    '#include \"bookshelf_IO.h\"',\n",
    "    # The important thing is to include the pre-built lib in the list of\n",
    "    # libraries you're linking against:\n",
    "    libraries=[\"bookshelf\"],\n",
    "    library_dirs=[this_dir.as_posix()],\n",
    "    extra_link_args=[\"-Wl,-rpath,.\"],\n",
    ")\n",
    "\n",
    "ffi.compile()"
   ]
  },
  {
   "cell_type": "code",
   "execution_count": 1,
   "metadata": {},
   "outputs": [
    {
     "name": "stdout",
     "output_type": "stream",
     "text": [
      "Successfully loaded  <CDLL 'd:\\My Data\\M.Stat\\Projects\\SSK die planning\\flute-3.1\\bookshelf.dll', handle 7ffd9ffb0000 at 0x1e17f5749d0>\n"
     ]
    }
   ],
   "source": [
    "from ctypes import *\n",
    "from sys import platform\n",
    "\n",
    "bookshelf_IO = CDLL(\"./bookshelf.dll\")\n",
    "print(\"Successfully loaded \", bookshelf_IO)"
   ]
  },
  {
   "cell_type": "code",
   "execution_count": 3,
   "metadata": {},
   "outputs": [
    {
     "data": {
      "text/plain": [
       "0"
      ]
     },
     "execution_count": 3,
     "metadata": {},
     "output_type": "execute_result"
    }
   ],
   "source": [
    "benchmarkPath=b'ibm01'\n",
    "auxFile=b'ibm01.aux'\n",
    "placefile=b'ibm01/ibm01.pl'\n",
    "bookshelf_IO.readAuxFile(benchmarkPath, auxFile)\n",
    "bookshelf_IO.createHash(benchmarkPath,b'ibm01.nodes')\n",
    "# bookshelf_IO.freeHash()\n",
    "# bookshelf_IO.readLUT()"
   ]
  },
  {
   "cell_type": "code",
   "execution_count": 4,
   "metadata": {},
   "outputs": [
    {
     "data": {
      "text/plain": [
       "12752"
      ]
     },
     "execution_count": 4,
     "metadata": {},
     "output_type": "execute_result"
    }
   ],
   "source": [
    "bookshelf_IO.readNodesFile(benchmarkPath,b'ibm01.nodes')"
   ]
  },
  {
   "cell_type": "code",
   "execution_count": 5,
   "metadata": {},
   "outputs": [
    {
     "data": {
      "text/plain": [
       "19986596"
      ]
     },
     "execution_count": 5,
     "metadata": {},
     "output_type": "execute_result"
    }
   ],
   "source": [
    "bookshelf_IO.readNetsFile(benchmarkPath,b'ibm01.nets')"
   ]
  },
  {
   "cell_type": "code",
   "execution_count": 6,
   "metadata": {},
   "outputs": [
    {
     "data": {
      "text/plain": [
       "12752"
      ]
     },
     "execution_count": 6,
     "metadata": {},
     "output_type": "execute_result"
    }
   ],
   "source": [
    "bookshelf_IO.readPlFile(b'.',b'ibm01/ibm01.pl')"
   ]
  },
  {
   "cell_type": "code",
   "execution_count": null,
   "metadata": {},
   "outputs": [],
   "source": [
    "bookshelf_IO.freeHash()\n",
    "# bookshelf_IO.readLUT()"
   ]
  },
  {
   "cell_type": "code",
   "execution_count": 34,
   "metadata": {},
   "outputs": [
    {
     "data": {
      "text/plain": [
       "50566"
      ]
     },
     "execution_count": 34,
     "metadata": {},
     "output_type": "execute_result"
    }
   ],
   "source": [
    "numNets=c_int.in_dll(bookshelf_IO,'numPins')\n",
    "numNets.value"
   ]
  },
  {
   "cell_type": "code",
   "execution_count": null,
   "metadata": {},
   "outputs": [],
   "source": [
    "netlist = POINTER(c_int).in_dll(bookshelf_IO,'netlist')\n",
    "# Access and dereference the pointer to get the value\n",
    "nets=[netlist[i] for i in range(numNets.value)] #\n",
    "nets"
   ]
  },
  {
   "cell_type": "code",
   "execution_count": 46,
   "metadata": {},
   "outputs": [
    {
     "data": {
      "text/plain": [
       "b'ibm01.nodes'"
      ]
     },
     "execution_count": 46,
     "metadata": {},
     "output_type": "execute_result"
    }
   ],
   "source": [
    "nodesFile = c_char_p.in_dll(bookshelf_IO,'nodesFile')\n",
    "# Access and dereference the pointer to get the value\n",
    "nodesFile.value"
   ]
  },
  {
   "cell_type": "code",
   "execution_count": null,
   "metadata": {},
   "outputs": [
    {
     "ename": "AttributeError",
     "evalue": "'NoneType' object has no attribute 'decode'",
     "output_type": "error",
     "traceback": [
      "\u001b[1;31m---------------------------------------------------------------------------\u001b[0m",
      "\u001b[1;31mAttributeError\u001b[0m                            Traceback (most recent call last)",
      "\u001b[1;32md:\\My Data\\M.Stat\\Projects\\SSK die planning\\flute-3.1\\viz.ipynb Cell 12\u001b[0m in \u001b[0;36m3\n\u001b[0;32m      <a href='vscode-notebook-cell:/d%3A/My%20Data/M.Stat/Projects/SSK%20die%20planning/flute-3.1/viz.ipynb#X32sZmlsZQ%3D%3D?line=0'>1</a>\u001b[0m cellOrientation \u001b[39m=\u001b[39m POINTER(c_char_p)\u001b[39m.\u001b[39min_dll(bookshelf_IO,\u001b[39m'\u001b[39m\u001b[39mnetName\u001b[39m\u001b[39m'\u001b[39m)\n\u001b[0;32m      <a href='vscode-notebook-cell:/d%3A/My%20Data/M.Stat/Projects/SSK%20die%20planning/flute-3.1/viz.ipynb#X32sZmlsZQ%3D%3D?line=1'>2</a>\u001b[0m \u001b[39m# Access and dereference the pointer to get the valu\u001b[39;00m\n\u001b[1;32m----> <a href='vscode-notebook-cell:/d%3A/My%20Data/M.Stat/Projects/SSK%20die%20planning/flute-3.1/viz.ipynb#X32sZmlsZQ%3D%3D?line=2'>3</a>\u001b[0m arr \u001b[39m=\u001b[39m [cast(s,c_char_p)\u001b[39m.\u001b[39mvalue\u001b[39m.\u001b[39mdecode(\u001b[39m'\u001b[39m\u001b[39mlatin-1\u001b[39m\u001b[39m'\u001b[39m) \u001b[39mfor\u001b[39;00m s \u001b[39min\u001b[39;00m cellOrientation]\n\u001b[0;32m      <a href='vscode-notebook-cell:/d%3A/My%20Data/M.Stat/Projects/SSK%20die%20planning/flute-3.1/viz.ipynb#X32sZmlsZQ%3D%3D?line=3'>4</a>\u001b[0m arr\n",
      "\u001b[1;32md:\\My Data\\M.Stat\\Projects\\SSK die planning\\flute-3.1\\viz.ipynb Cell 12\u001b[0m in \u001b[0;36m3\n\u001b[0;32m      <a href='vscode-notebook-cell:/d%3A/My%20Data/M.Stat/Projects/SSK%20die%20planning/flute-3.1/viz.ipynb#X32sZmlsZQ%3D%3D?line=0'>1</a>\u001b[0m cellOrientation \u001b[39m=\u001b[39m POINTER(c_char_p)\u001b[39m.\u001b[39min_dll(bookshelf_IO,\u001b[39m'\u001b[39m\u001b[39mnetName\u001b[39m\u001b[39m'\u001b[39m)\n\u001b[0;32m      <a href='vscode-notebook-cell:/d%3A/My%20Data/M.Stat/Projects/SSK%20die%20planning/flute-3.1/viz.ipynb#X32sZmlsZQ%3D%3D?line=1'>2</a>\u001b[0m \u001b[39m# Access and dereference the pointer to get the valu\u001b[39;00m\n\u001b[1;32m----> <a href='vscode-notebook-cell:/d%3A/My%20Data/M.Stat/Projects/SSK%20die%20planning/flute-3.1/viz.ipynb#X32sZmlsZQ%3D%3D?line=2'>3</a>\u001b[0m arr \u001b[39m=\u001b[39m [cast(s,c_char_p)\u001b[39m.\u001b[39;49mvalue\u001b[39m.\u001b[39;49mdecode(\u001b[39m'\u001b[39m\u001b[39mlatin-1\u001b[39m\u001b[39m'\u001b[39m) \u001b[39mfor\u001b[39;00m s \u001b[39min\u001b[39;00m cellOrientation]\n\u001b[0;32m      <a href='vscode-notebook-cell:/d%3A/My%20Data/M.Stat/Projects/SSK%20die%20planning/flute-3.1/viz.ipynb#X32sZmlsZQ%3D%3D?line=3'>4</a>\u001b[0m arr\n",
      "\u001b[1;31mAttributeError\u001b[0m: 'NoneType' object has no attribute 'decode'"
     ]
    },
    {
     "ename": "",
     "evalue": "",
     "output_type": "error",
     "traceback": [
      "\u001b[1;31mCannot execute code, session has been disposed. Please try restarting the Kernel."
     ]
    },
    {
     "ename": "",
     "evalue": "",
     "output_type": "error",
     "traceback": [
      "\u001b[1;31mThe Kernel crashed while executing code in the the current cell or a previous cell. Please review the code in the cell(s) to identify a possible cause of the failure. Click <a href='https://aka.ms/vscodeJupyterKernelCrash'>here</a> for more info. View Jupyter <a href='command:jupyter.viewOutput'>log</a> for further details."
     ]
    }
   ],
   "source": [
    "cellOrientation = POINTER(c_char_p).in_dll(bookshelf_IO,'netName')\n",
    "# Access and dereference the pointer to get the valu\n",
    "arr = [cast(s,c_char_p).value.decode('latin-1') for s in cellOrientation if s]\n",
    "arr"
   ]
  }
 ],
 "metadata": {
  "kernelspec": {
   "display_name": "JE",
   "language": "python",
   "name": "python3"
  },
  "language_info": {
   "codemirror_mode": {
    "name": "ipython",
    "version": 3
   },
   "file_extension": ".py",
   "mimetype": "text/x-python",
   "name": "python",
   "nbconvert_exporter": "python",
   "pygments_lexer": "ipython3",
   "version": "3.10.0"
  },
  "orig_nbformat": 4
 },
 "nbformat": 4,
 "nbformat_minor": 2
}
