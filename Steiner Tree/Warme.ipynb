{
 "cells": [
  {
   "cell_type": "code",
   "execution_count": 1,
   "metadata": {
    "vscode": {
     "languageId": "r"
    }
   },
   "outputs": [
    {
     "data": {
      "image/png": "[encoded data removed]",
      "text/plain": [
       "plot without title"
      ]
     },
     "metadata": {},
     "output_type": "display_data"
    }
   ],
   "source": [
    "x<-seq(0,10,0.1)\n",
    "y<-pnorm(x)\n",
    "plot(x,y,type='l',col='blue',lwd=2)"
   ]
  },
  {
   "cell_type": "code",
   "execution_count": 4,
   "metadata": {
    "vscode": {
     "languageId": "r"
    }
   },
   "outputs": [
    {
     "name": "stderr",
     "output_type": "stream",
     "text": [
      "also installing the dependencies 'fs', 'cachem', 'memoise', 'sass', 'cli', 'glue', 'lifecycle', 'stringi', 'vctrs', 'bslib', 'fontawesome', 'stringr', 'tinytex', 'yaml', 'rmarkdown', 'rlang', 'fastmap', 'highr', 'xfun', 'htmlwidgets', 'htmltools', 'knitr', 'magrittr', 'mime'\n",
      "\n"
     ]
    },
    {
     "name": "stdout",
     "output_type": "stream",
     "text": [
      "\n",
      "  There are binary versions available but the source versions are later:\n",
      "             binary source needs_compilation\n",
      "fs            1.5.0  1.6.2              TRUE\n",
      "cachem        1.0.4  1.0.8              TRUE\n",
      "memoise       2.0.0  2.0.1             FALSE\n",
      "sass          0.4.0  0.4.6              TRUE\n",
      "cli           2.5.0  3.6.1              TRUE\n",
      "glue          1.4.2  1.6.2              TRUE\n",
      "lifecycle     1.0.0  1.0.3             FALSE\n",
      "stringi       1.6.1 1.7.12              TRUE\n",
      "vctrs         0.3.8  0.6.3              TRUE\n",
      "bslib         0.2.4  0.5.0             FALSE\n",
      "fontawesome   0.2.1  0.5.1             FALSE\n",
      "stringr       1.4.0  1.5.0             FALSE\n",
      "tinytex        0.31   0.45             FALSE\n",
      "yaml          2.2.1  2.3.7              TRUE\n",
      "rmarkdown       2.8   2.23             FALSE\n",
      "rlang        0.4.11  1.1.1              TRUE\n",
      "fastmap       1.1.0  1.1.1              TRUE\n",
      "highr           0.9   0.10             FALSE\n",
      "xfun           0.22   0.39              TRUE\n",
      "htmlwidgets   1.5.3  1.6.2             FALSE\n",
      "htmltools   0.5.1.1  0.5.5              TRUE\n",
      "knitr          1.33   1.43             FALSE\n",
      "magrittr      2.0.1  2.0.3              TRUE\n",
      "mime           0.10   0.12              TRUE\n",
      "rgl         0.106.8  1.2.1              TRUE\n",
      "\n"
     ]
    },
    {
     "name": "stderr",
     "output_type": "stream",
     "text": [
      "installing the source packages 'fs', 'cachem', 'memoise', 'sass', 'cli', 'glue', 'lifecycle', 'stringi', 'vctrs', 'bslib', 'fontawesome', 'stringr', 'tinytex', 'yaml', 'rmarkdown', 'rlang', 'fastmap', 'highr', 'xfun', 'htmlwidgets', 'htmltools', 'knitr', 'magrittr', 'mime', 'rgl'\n",
      "\n",
      "Warning message in install.packages(\"rgl\"):\n",
      "\"installation of package 'fs' had non-zero exit status\"Warning message in install.packages(\"rgl\"):\n",
      "\"installation of package 'cli' had non-zero exit status\"Warning message in install.packages(\"rgl\"):\n",
      "\"installation of package 'glue' had non-zero exit status\"Warning message in install.packages(\"rgl\"):\n",
      "\"installation of package 'stringi' had non-zero exit status\"Warning message in install.packages(\"rgl\"):\n",
      "\"installation of package 'yaml' had non-zero exit status\"Warning message in install.packages(\"rgl\"):\n",
      "\"installation of package 'rlang' had non-zero exit status\"Warning message in install.packages(\"rgl\"):\n",
      "\"installation of package 'fastmap' had non-zero exit status\"Warning message in install.packages(\"rgl\"):\n",
      "\"installation of package 'xfun' had non-zero exit status\"Warning message in install.packages(\"rgl\"):\n",
      "\"installation of package 'magrittr' had non-zero exit status\"Warning message in install.packages(\"rgl\"):\n",
      "\"installation of package 'mime' had non-zero exit status\"Warning message in install.packages(\"rgl\"):\n",
      "\"installation of package 'cachem' had non-zero exit status\"Warning message in install.packages(\"rgl\"):\n",
      "\"installation of package 'lifecycle' had non-zero exit status\"Warning message in install.packages(\"rgl\"):\n",
      "\"installation of package 'tinytex' had non-zero exit status\"Warning message in install.packages(\"rgl\"):\n",
      "\"installation of package 'highr' had non-zero exit status\"Warning message in install.packages(\"rgl\"):\n",
      "\"installation of package 'htmltools' had non-zero exit status\"Warning message in install.packages(\"rgl\"):\n",
      "\"installation of package 'memoise' had non-zero exit status\"Warning message in install.packages(\"rgl\"):\n",
      "\"installation of package 'sass' had non-zero exit status\"Warning message in install.packages(\"rgl\"):\n",
      "\"installation of package 'vctrs' had non-zero exit status\"Warning message in install.packages(\"rgl\"):\n",
      "\"installation of package 'fontawesome' had non-zero exit status\"Warning message in install.packages(\"rgl\"):\n",
      "\"installation of package 'knitr' had non-zero exit status\"Warning message in install.packages(\"rgl\"):\n",
      "\"installation of package 'bslib' had non-zero exit status\"Warning message in install.packages(\"rgl\"):\n",
      "\"installation of package 'stringr' had non-zero exit status\"Warning message in install.packages(\"rgl\"):\n",
      "\"installation of package 'rmarkdown' had non-zero exit status\"Warning message in install.packages(\"rgl\"):\n",
      "\"installation of package 'htmlwidgets' had non-zero exit status\"Warning message in install.packages(\"rgl\"):\n",
      "\"installation of package 'rgl' had non-zero exit status\""
     ]
    }
   ],
   "source": [
    "install.packages(\"rgl\")"
   ]
  }
 ],
 "metadata": {
  "kernelspec": {
   "display_name": "R",
   "language": "R",
   "name": "ir"
  },
  "language_info": {
   "codemirror_mode": "r",
   "file_extension": ".r",
   "mimetype": "text/x-r-source",
   "name": "R",
   "pygments_lexer": "r",
   "version": "3.6.1"
  },
  "orig_nbformat": 4
 },
 "nbformat": 4,
 "nbformat_minor": 2
}
